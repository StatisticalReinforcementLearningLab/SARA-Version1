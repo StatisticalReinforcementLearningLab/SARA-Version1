{
 "cells": [
  {
   "cell_type": "code",
   "execution_count": 1,
   "metadata": {},
   "outputs": [
    {
     "name": "stdout",
     "output_type": "stream",
     "text": [
      "Total subject count (finished 30-day study) = 37\n"
     ]
    }
   ],
   "source": [
    "import glob\n",
    "file_list = glob.glob(\"./mrt/*.txt\")\n",
    "print \"Total subject count (finished 30-day study) = \" + str(len(file_list))"
   ]
  },
  {
   "cell_type": "markdown",
   "metadata": {},
   "source": [
    "## Whether daily survey and active tasks are answered on the same day"
   ]
  },
  {
   "cell_type": "code",
   "execution_count": 6,
   "metadata": {},
   "outputs": [],
   "source": [
    "import csv\n",
    "import json\n",
    "from pprint import pprint\n",
    "from datetime import datetime, timedelta\n",
    "import pdb\n",
    "\n",
    "f = open('./stat111/hist_1.csv', 'rb')\n",
    "all_data = []\n",
    "reader = csv.reader(f)\n",
    "for row in reader:\n",
    "    all_data.append(row)\n",
    "f.close()\n",
    "\n",
    "adherence_over_days = []\n",
    "\n",
    "match_count = 0\n",
    "unmatch_count = 0\n",
    "for j in range(len(all_data)):\n",
    "    row = all_data[j]\n",
    "    \n",
    "    #row[2]==0 if daily survey not done\n",
    "    #row[2]==1 if daily survey done\n",
    "    #row[3]==0 if active tasks not done\n",
    "    #row[3]==1 if active tasks done\n",
    "    if int(row[2]) == int(row[3]): \n",
    "        match_count = match_count + 1.0\n",
    "    else: \n",
    "        unmatch_count = unmatch_count + 1.0\n",
    "    "
   ]
  },
  {
   "cell_type": "code",
   "execution_count": 8,
   "metadata": {},
   "outputs": [
    {
     "name": "stdout",
     "output_type": "stream",
     "text": [
      "match_count 1043.0\n",
      "unmatch_count 37.0\n"
     ]
    }
   ],
   "source": [
    "print \"match_count\", match_count\n",
    "print \"unmatch_count\", unmatch_count"
   ]
  },
  {
   "cell_type": "code",
   "execution_count": 9,
   "metadata": {},
   "outputs": [
    {
     "data": {
      "text/plain": [
       "96.57407407407408"
      ]
     },
     "execution_count": 9,
     "metadata": {},
     "output_type": "execute_result"
    }
   ],
   "source": [
    "100*1043.0/(1043.0+37.0)"
   ]
  },
  {
   "cell_type": "markdown",
   "metadata": {},
   "source": [
    "## Compute a logistic regression\n"
   ]
  },
  {
   "cell_type": "code",
   "execution_count": 30,
   "metadata": {},
   "outputs": [
    {
     "name": "stdout",
     "output_type": "stream",
     "text": [
      "day 2, 1.8245492920510455\n",
      "day 3, 0.9555114450274362\n",
      "day 4, 0.9555114450274359\n",
      "day 5, 1.2527629684953678\n",
      "day 6, 0.6931471805599458\n",
      "day 7, 0.5705448584676134\n",
      "day 8, 0.8209805520698303\n",
      "day 9, 0.45198512374305727\n",
      "day 10, -0.11122563511022462\n",
      "day 11, 0.6931471805599458\n",
      "day 12, 0.5705448584676134\n",
      "day 13, 0.9555114450274362\n",
      "day 14, 0.5705448584676134\n",
      "day 15, 0.6931471805599458\n",
      "day 16, 0.5705448584676134\n",
      "day 17, 0.5705448584676134\n",
      "day 18, 0.3364722366212129\n",
      "day 19, 0.6931471805599458\n",
      "day 20, 0.3364722366212129\n",
      "day 21, 0.11122563511022451\n",
      "day 22, 0.22314355131420976\n",
      "day 23, -0.2231435513142094\n",
      "day 24, 0.0\n",
      "day 25, 0.0\n",
      "day 26, -0.2231435513142094\n",
      "day 27, 0.0\n",
      "day 28, -0.11122563511022426\n",
      "day 29, 0.3364722366212129\n",
      "day 30, 0.2231435513142097\n"
     ]
    }
   ],
   "source": [
    "import statsmodels.api as sm\n",
    "import numpy as np\n",
    "adherence_over_days = []\n",
    "for i in range(30):\n",
    "    data = [] # data for day \"i\" in the study\n",
    "    X_0 = []\n",
    "    count_adhered = 0\n",
    "    total_people = 0\n",
    "    for j in range(len(all_data)):\n",
    "        row = all_data[j]\n",
    "        day = int(row[1]) - 1\n",
    "        if day == i:\n",
    "            data.append(int(row[2]))\n",
    "            X_0.append(1)\n",
    "        \n",
    "    #print i \n",
    "    \n",
    "    if i > 0: \n",
    "        #run a logistic regression\n",
    "        logit = sm.Logit(data, X_0)\n",
    "        result = logit.fit(disp=0)\n",
    "\n",
    "        #\n",
    "        alpha_t = result.params[0]\n",
    "        print \"day \" + str(i+1) + \", \" + str(alpha_t)"
   ]
  },
  {
   "cell_type": "code",
   "execution_count": 34,
   "metadata": {},
   "outputs": [
    {
     "name": "stdout",
     "output_type": "stream",
     "text": [
      "3.5553480614894144\n",
      "1.8245492920510455\n",
      "0.9555114450274362\n",
      "0.9555114450274359\n",
      "1.2527629684953678\n",
      "0.6931471805599458\n",
      "0.5705448584676134\n",
      "0.8209805520698303\n",
      "0.45198512374305727\n",
      "-0.11122563511022462\n",
      "0.6931471805599458\n",
      "0.5705448584676134\n",
      "0.9555114450274362\n",
      "0.5705448584676134\n",
      "0.6931471805599458\n",
      "0.5705448584676134\n",
      "0.5705448584676134\n",
      "0.3364722366212129\n",
      "0.6931471805599458\n",
      "0.3364722366212129\n",
      "0.11122563511022451\n",
      "0.22314355131420976\n",
      "-0.2231435513142094\n",
      "0.0\n",
      "0.0\n",
      "-0.2231435513142094\n",
      "0.0\n",
      "-0.11122563511022426\n",
      "0.3364722366212129\n",
      "0.2231435513142097\n"
     ]
    }
   ],
   "source": [
    "import statsmodels.api as sm\n",
    "import numpy as np\n",
    "adherence_over_days = []\n",
    "for i in range(30):\n",
    "    data = [] # data for day \"i\" in the study\n",
    "    X_0 = []\n",
    "    count_adhered = 0\n",
    "    total_people = 0\n",
    "    for j in range(len(all_data)):\n",
    "        row = all_data[j]\n",
    "        day = int(row[1]) - 1\n",
    "        if day == i:\n",
    "            data.append(int(row[2]))\n",
    "            X_0.append(1)\n",
    "        \n",
    "    #print i \n",
    "    \n",
    "    \n",
    "    if i == 0:\n",
    "        data[0] = 0\n",
    "        \n",
    "    #run a logistic regression\n",
    "    logit = sm.Logit(data, X_0)\n",
    "    result = logit.fit(disp=0)\n",
    "\n",
    "    #\n",
    "    alpha_t = result.params[0]\n",
    "    print str(alpha_t)"
   ]
  },
  {
   "cell_type": "code",
   "execution_count": null,
   "metadata": {},
   "outputs": [],
   "source": []
  },
  {
   "cell_type": "code",
   "execution_count": null,
   "metadata": {},
   "outputs": [],
   "source": []
  },
  {
   "cell_type": "code",
   "execution_count": null,
   "metadata": {},
   "outputs": [],
   "source": []
  },
  {
   "cell_type": "code",
   "execution_count": null,
   "metadata": {
    "collapsed": true
   },
   "outputs": [],
   "source": []
  }
 ],
 "metadata": {
  "kernelspec": {
   "display_name": "Python 2",
   "language": "python",
   "name": "python2"
  },
  "language_info": {
   "codemirror_mode": {
    "name": "ipython",
    "version": 2
   },
   "file_extension": ".py",
   "mimetype": "text/x-python",
   "name": "python",
   "nbconvert_exporter": "python",
   "pygments_lexer": "ipython2",
   "version": "2.7.10"
  }
 },
 "nbformat": 4,
 "nbformat_minor": 2
}
