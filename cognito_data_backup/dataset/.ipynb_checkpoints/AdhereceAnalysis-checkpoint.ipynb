{
 "cells": [
  {
   "cell_type": "markdown",
   "metadata": {},
   "source": [
    "#### Meredith's email on Dec 15\n",
    "\n",
    "Among xx participants who have completed the 30-day data collection period, \n",
    "- overall engagement in daily surveys was: xx% 10 days or less, xx% 11-20 days, xx% 21-30 days (mean =xx; SD=x). \n",
    "- As for the active tasks, engagement was: xx% 10 days or less, xx% 11-20 days, xx% 21-30 days (mean =xx; SD=x). \n",
    "- engagement in the 4 weekly surveys was: x% 1, x%2, x%3, x% four (mean =xx; SD=x). \n",
    "\n"
   ]
  },
  {
   "cell_type": "markdown",
   "metadata": {},
   "source": [
    "#### 1. Number of participants"
   ]
  },
  {
   "cell_type": "code",
   "execution_count": 8,
   "metadata": {},
   "outputs": [
    {
     "name": "stdout",
     "output_type": "stream",
     "text": [
      "Total subject count (finished 30-day study) = 37\n"
     ]
    }
   ],
   "source": [
    "import glob\n",
    "file_list = glob.glob(\"./mrt/*.txt\")\n",
    "print \"Total subject count (finished 30-day study) = \" + str(len(file_list))"
   ]
  },
  {
   "cell_type": "markdown",
   "metadata": {
    "collapsed": true
   },
   "source": [
    "#### 2. Daily survey"
   ]
  },
  {
   "cell_type": "code",
   "execution_count": 63,
   "metadata": {},
   "outputs": [
    {
     "name": "stdout",
     "output_type": "stream",
     "text": [
      "first_10 71.6666666667\n",
      "second_10 64.4444444444\n",
      "third_10 50.8333333333\n",
      "[0.7, 0.6333333333333333, 1.0, 0.9333333333333333, 0.8, 0.6, 0.9333333333333333, 0.7, 0.3333333333333333, 0.3333333333333333, 0.8333333333333334, 0.8333333333333334, 0.06666666666666667, 0.9666666666666667, 0.8333333333333334, 0.9666666666666667, 0.8, 0.23333333333333334, 0.06666666666666667, 0.8666666666666667, 0.0, 0.7333333333333333, 0.7333333333333333, 0.8, 0.7333333333333333, 0.43333333333333335, 0.03333333333333333, 0.03333333333333333, 0.7333333333333333, 0.3, 0.8666666666666667, 0.36666666666666664, 0.9, 0.06666666666666667, 0.5333333333333333, 1.0, 0.7333333333333333]\n"
     ]
    }
   ],
   "source": [
    "import json\n",
    "from pprint import pprint\n",
    "from datetime import datetime, timedelta\n",
    "\n",
    "\n",
    "#initialize count\n",
    "counts_over_days = []\n",
    "for i in range(30):\n",
    "    counts_over_days.append(0)\n",
    "\n",
    "total_adherence_subject = []\n",
    "for j in range(len(file_list)):\n",
    "    total_adherence_subject.append(0)\n",
    "    \n",
    "    \n",
    "for j in range(len(file_list)):    \n",
    "    data = json.load(open(file_list[j]))\n",
    "    daily_survey = data[u'survey_data'][u'daily_survey']\n",
    "    daily_survey_keys = sorted(daily_survey.keys()) #this will sort alphabatically\n",
    "    username = str(data[u'username'])\n",
    "    # print username\n",
    "    \n",
    "    if len(daily_survey_keys) == 0:\n",
    "        # print username\n",
    "        continue\n",
    "        \n",
    "    first_date = daily_survey_keys[0]\n",
    "    \n",
    "\n",
    "    next_date = first_date\n",
    "    data_for_subject = \"\"\n",
    "\n",
    "    for i in range(30):\n",
    "        date = datetime.strptime(next_date, \"%Y%m%d\")\n",
    "        #print next_date\n",
    "\n",
    "        if next_date in daily_survey:\n",
    "            data_for_subject = data_for_subject + username + \",\" + str(i+1) + \",\" + next_date + \",1\\n\"\n",
    "            counts_over_days[i] = counts_over_days[i] + 1.0\n",
    "            total_adherence_subject[j] = total_adherence_subject[j] + 1.0\n",
    "        else:\n",
    "            data_for_subject = data_for_subject + username + \",\" + str(i+1) + \",\" + next_date + \",0\\n\"   \n",
    "\n",
    "        modified_date = date + timedelta(days=1)\n",
    "        next_date = datetime.strftime(modified_date, \"%Y%m%d\")\n",
    "    \n",
    "\n",
    "#adherence over time\n",
    "first_10 = 0.0;\n",
    "second_10 = 0.0;\n",
    "third_10 = 0.0;\n",
    "\n",
    "for i in range(30):\n",
    "    counts_over_days[i] = 100*counts_over_days[i]/(len(file_list)-1)\n",
    "    \n",
    "    #\n",
    "    if i < 10:\n",
    "        first_10 = first_10 + counts_over_days[i]*0.1\n",
    "    if i >= 10 and i < 20:\n",
    "        second_10 = second_10 + counts_over_days[i]*0.1\n",
    "    if i >= 20:\n",
    "        third_10 = third_10 + counts_over_days[i]*0.1\n",
    "        \n",
    "        \n",
    "print(\"first_10 \" + str(first_10))  \n",
    "print(\"second_10 \" + str(second_10)) \n",
    "print(\"third_10 \" + str(third_10)) \n",
    "\n",
    "\n",
    "#adherence, what is the overall adherence\n",
    "for j in range(len(file_list)):\n",
    "    total_adherence_subject[j] = total_adherence_subject[j]*100.0/30.0\n",
    "print total_adherence_subject    \n"
   ]
  },
  {
   "cell_type": "markdown",
   "metadata": {},
   "source": [
    "#### 2. Active tasks"
   ]
  },
  {
   "cell_type": "code",
   "execution_count": 48,
   "metadata": {},
   "outputs": [
    {
     "name": "stdout",
     "output_type": "stream",
     "text": [
      "first_10 70.2777777778\n",
      "second_10 62.7777777778\n",
      "third_10 47.2222222222\n"
     ]
    }
   ],
   "source": [
    "import json\n",
    "from pprint import pprint\n",
    "from datetime import datetime, timedelta\n",
    "\n",
    "\n",
    "#initialize count\n",
    "counts_over_days = []\n",
    "for i in range(30):\n",
    "    counts_over_days.append(0)\n",
    "\n",
    "    \n",
    "    \n",
    "for j in range(len(file_list)):    \n",
    "    data = json.load(open(file_list[j]))\n",
    "    daily_survey = data[u'survey_data'][u'active_tasks_survey']\n",
    "    daily_survey_keys = sorted(daily_survey.keys()) #this will sort alphabatically\n",
    "    username = str(data[u'username'])\n",
    "    # print username\n",
    "    \n",
    "    if len(daily_survey_keys) == 0:\n",
    "        continue\n",
    "        \n",
    "    first_date = daily_survey_keys[0]\n",
    "    \n",
    "\n",
    "    next_date = first_date\n",
    "    data_for_subject = \"\"\n",
    "\n",
    "    for i in range(29):\n",
    "        date = datetime.strptime(next_date, \"%Y%m%d\")\n",
    "        #print next_date\n",
    "\n",
    "        if next_date in daily_survey:\n",
    "            data_for_subject = data_for_subject + username + \",\" + str(i+1) + \",\" + next_date + \",1\\n\"\n",
    "            counts_over_days[i] = counts_over_days[i] + 1.0\n",
    "        else:\n",
    "            data_for_subject = data_for_subject + username + \",\" + str(i+1) + \",\" + next_date + \",0\\n\"   \n",
    "\n",
    "        modified_date = date + timedelta(days=1)\n",
    "        next_date = datetime.strftime(modified_date, \"%Y%m%d\")\n",
    "    \n",
    "\n",
    "#\n",
    "first_10 = 0.0;\n",
    "second_10 = 0.0;\n",
    "third_10 = 0.0;\n",
    "\n",
    "for i in range(30):\n",
    "    counts_over_days[i] = 100*counts_over_days[i]/(len(file_list)-1)\n",
    "    \n",
    "    #\n",
    "    if i < 10:\n",
    "        first_10 = first_10 + counts_over_days[i]*0.1\n",
    "    if i >= 10 and i < 20:\n",
    "        second_10 = second_10 + counts_over_days[i]*0.1\n",
    "    if i >= 20:\n",
    "        third_10 = third_10 + counts_over_days[i]*(1.0/9.0)\n",
    "        \n",
    "        \n",
    "print(\"first_10 \" + str(first_10))  \n",
    "print(\"second_10 \" + str(second_10)) \n",
    "print(\"third_10 \" + str(third_10))  "
   ]
  },
  {
   "cell_type": "markdown",
   "metadata": {},
   "source": [
    "#### 3. Weekly survey"
   ]
  },
  {
   "cell_type": "code",
   "execution_count": 60,
   "metadata": {},
   "outputs": [
    {
     "name": "stdout",
     "output_type": "stream",
     "text": [
      "[80.55555555555556, 63.888888888888886, 58.333333333333336, 50.0]\n"
     ]
    }
   ],
   "source": [
    "import json\n",
    "from pprint import pprint\n",
    "from datetime import datetime, timedelta\n",
    "\n",
    "\n",
    "#initialize count\n",
    "counts_over_days = []\n",
    "for i in range(5):\n",
    "    counts_over_days.append(0)\n",
    "\n",
    "    \n",
    "    \n",
    "for j in range(len(file_list)):    \n",
    "    data = json.load(open(file_list[j]))\n",
    "    daily_survey = data[u'survey_data'][u'weekly_survey']\n",
    "    daily_survey_keys = sorted(daily_survey.keys()) #this will sort alphabatically\n",
    "    username = str(data[u'username'])\n",
    "    # print username\n",
    "    \n",
    "    if len(daily_survey_keys) == 0:\n",
    "        continue\n",
    "        \n",
    "    first_date = daily_survey_keys[0]\n",
    "    \n",
    "\n",
    "    next_date = first_date\n",
    "    data_for_subject = \"\"\n",
    "\n",
    "    for i in range(5):\n",
    "        date = datetime.strptime(next_date, \"%Y%m%d\")\n",
    "        #print next_date\n",
    "\n",
    "        if next_date in daily_survey:\n",
    "            data_for_subject = data_for_subject + username + \",\" + str(i+1) + \",\" + next_date + \",1\\n\"\n",
    "            counts_over_days[i] = counts_over_days[i] + 1.0\n",
    "        else:\n",
    "            data_for_subject = data_for_subject + username + \",\" + str(i+1) + \",\" + next_date + \",0\\n\"   \n",
    "\n",
    "        modified_date = date + timedelta(days=7)\n",
    "        next_date = datetime.strftime(modified_date, \"%Y%m%d\")\n",
    "    \n",
    "\n",
    "#\n",
    "counts_over_days[0] = 100*counts_over_days[0]/(len(file_list)-1)\n",
    "counts_over_days[1] = 100*counts_over_days[1]/(len(file_list)-1)\n",
    "counts_over_days[2] = 100*counts_over_days[2]/(len(file_list)-1)\n",
    "counts_over_days[3] = 100*counts_over_days[3]/(len(file_list)-1)\n",
    "print counts_over_days[:4]"
   ]
  },
  {
   "cell_type": "code",
   "execution_count": null,
   "metadata": {
    "collapsed": true
   },
   "outputs": [],
   "source": []
  }
 ],
 "metadata": {
  "kernelspec": {
   "display_name": "Python 2",
   "language": "python",
   "name": "python2"
  },
  "language_info": {
   "codemirror_mode": {
    "name": "ipython",
    "version": 2
   },
   "file_extension": ".py",
   "mimetype": "text/x-python",
   "name": "python",
   "nbconvert_exporter": "python",
   "pygments_lexer": "ipython2",
   "version": "2.7.10"
  }
 },
 "nbformat": 4,
 "nbformat_minor": 2
}
